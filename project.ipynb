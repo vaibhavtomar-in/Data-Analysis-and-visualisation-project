{
 "cells": [
  {
   "cell_type": "code",
   "execution_count": 1,
   "metadata": {},
   "outputs": [
    {
     "data": {
      "text/html": [
       "<div>\n",
       "<style scoped>\n",
       "    .dataframe tbody tr th:only-of-type {\n",
       "        vertical-align: middle;\n",
       "    }\n",
       "\n",
       "    .dataframe tbody tr th {\n",
       "        vertical-align: top;\n",
       "    }\n",
       "\n",
       "    .dataframe thead th {\n",
       "        text-align: right;\n",
       "    }\n",
       "</style>\n",
       "<table border=\"1\" class=\"dataframe\">\n",
       "  <thead>\n",
       "    <tr style=\"text-align: right;\">\n",
       "      <th></th>\n",
       "      <th>Age</th>\n",
       "      <th>Gender</th>\n",
       "      <th>Education Level</th>\n",
       "      <th>Job Title</th>\n",
       "      <th>Years of Experience</th>\n",
       "      <th>Salary</th>\n",
       "    </tr>\n",
       "  </thead>\n",
       "  <tbody>\n",
       "    <tr>\n",
       "      <th>0</th>\n",
       "      <td>32.0</td>\n",
       "      <td>Male</td>\n",
       "      <td>Bachelor's</td>\n",
       "      <td>Software Engineer</td>\n",
       "      <td>5.0</td>\n",
       "      <td>90000.0</td>\n",
       "    </tr>\n",
       "    <tr>\n",
       "      <th>1</th>\n",
       "      <td>28.0</td>\n",
       "      <td>Female</td>\n",
       "      <td>Master's</td>\n",
       "      <td>Data Analyst</td>\n",
       "      <td>3.0</td>\n",
       "      <td>65000.0</td>\n",
       "    </tr>\n",
       "    <tr>\n",
       "      <th>2</th>\n",
       "      <td>45.0</td>\n",
       "      <td>Male</td>\n",
       "      <td>PhD</td>\n",
       "      <td>Senior Manager</td>\n",
       "      <td>15.0</td>\n",
       "      <td>150000.0</td>\n",
       "    </tr>\n",
       "    <tr>\n",
       "      <th>3</th>\n",
       "      <td>36.0</td>\n",
       "      <td>Female</td>\n",
       "      <td>Bachelor's</td>\n",
       "      <td>Sales Associate</td>\n",
       "      <td>7.0</td>\n",
       "      <td>60000.0</td>\n",
       "    </tr>\n",
       "    <tr>\n",
       "      <th>4</th>\n",
       "      <td>52.0</td>\n",
       "      <td>Male</td>\n",
       "      <td>Master's</td>\n",
       "      <td>Director</td>\n",
       "      <td>20.0</td>\n",
       "      <td>200000.0</td>\n",
       "    </tr>\n",
       "    <tr>\n",
       "      <th>...</th>\n",
       "      <td>...</td>\n",
       "      <td>...</td>\n",
       "      <td>...</td>\n",
       "      <td>...</td>\n",
       "      <td>...</td>\n",
       "      <td>...</td>\n",
       "    </tr>\n",
       "    <tr>\n",
       "      <th>6699</th>\n",
       "      <td>49.0</td>\n",
       "      <td>Female</td>\n",
       "      <td>PhD</td>\n",
       "      <td>Director of Marketing</td>\n",
       "      <td>20.0</td>\n",
       "      <td>200000.0</td>\n",
       "    </tr>\n",
       "    <tr>\n",
       "      <th>6700</th>\n",
       "      <td>32.0</td>\n",
       "      <td>Male</td>\n",
       "      <td>High School</td>\n",
       "      <td>Sales Associate</td>\n",
       "      <td>3.0</td>\n",
       "      <td>50000.0</td>\n",
       "    </tr>\n",
       "    <tr>\n",
       "      <th>6701</th>\n",
       "      <td>30.0</td>\n",
       "      <td>Female</td>\n",
       "      <td>Bachelor's Degree</td>\n",
       "      <td>Financial Manager</td>\n",
       "      <td>4.0</td>\n",
       "      <td>55000.0</td>\n",
       "    </tr>\n",
       "    <tr>\n",
       "      <th>6702</th>\n",
       "      <td>46.0</td>\n",
       "      <td>Male</td>\n",
       "      <td>Master's Degree</td>\n",
       "      <td>Marketing Manager</td>\n",
       "      <td>14.0</td>\n",
       "      <td>140000.0</td>\n",
       "    </tr>\n",
       "    <tr>\n",
       "      <th>6703</th>\n",
       "      <td>26.0</td>\n",
       "      <td>Female</td>\n",
       "      <td>High School</td>\n",
       "      <td>Sales Executive</td>\n",
       "      <td>1.0</td>\n",
       "      <td>35000.0</td>\n",
       "    </tr>\n",
       "  </tbody>\n",
       "</table>\n",
       "<p>6704 rows × 6 columns</p>\n",
       "</div>"
      ],
      "text/plain": [
       "       Age  Gender    Education Level              Job Title  \\\n",
       "0     32.0    Male         Bachelor's      Software Engineer   \n",
       "1     28.0  Female           Master's           Data Analyst   \n",
       "2     45.0    Male                PhD         Senior Manager   \n",
       "3     36.0  Female         Bachelor's        Sales Associate   \n",
       "4     52.0    Male           Master's               Director   \n",
       "...    ...     ...                ...                    ...   \n",
       "6699  49.0  Female                PhD  Director of Marketing   \n",
       "6700  32.0    Male        High School        Sales Associate   \n",
       "6701  30.0  Female  Bachelor's Degree      Financial Manager   \n",
       "6702  46.0    Male    Master's Degree      Marketing Manager   \n",
       "6703  26.0  Female        High School        Sales Executive   \n",
       "\n",
       "      Years of Experience    Salary  \n",
       "0                     5.0   90000.0  \n",
       "1                     3.0   65000.0  \n",
       "2                    15.0  150000.0  \n",
       "3                     7.0   60000.0  \n",
       "4                    20.0  200000.0  \n",
       "...                   ...       ...  \n",
       "6699                 20.0  200000.0  \n",
       "6700                  3.0   50000.0  \n",
       "6701                  4.0   55000.0  \n",
       "6702                 14.0  140000.0  \n",
       "6703                  1.0   35000.0  \n",
       "\n",
       "[6704 rows x 6 columns]"
      ]
     },
     "execution_count": 1,
     "metadata": {},
     "output_type": "execute_result"
    }
   ],
   "source": [
    "import pandas as pd\n",
    "import matplotlib.pyplot as plot\n",
    "\n",
    "df = pd.read_csv(\"D:\\code\\DAV_sem_5\\project\\Salary_Data.csv\")\n",
    "df"
   ]
  },
  {
   "cell_type": "markdown",
   "metadata": {},
   "source": [
    "DATA CLEANING STEP 1\n",
    "Dropping null values"
   ]
  },
  {
   "cell_type": "code",
   "execution_count": 2,
   "metadata": {},
   "outputs": [
    {
     "data": {
      "text/plain": [
       "Age                    2\n",
       "Gender                 2\n",
       "Education Level        3\n",
       "Job Title              2\n",
       "Years of Experience    3\n",
       "Salary                 5\n",
       "dtype: int64"
      ]
     },
     "execution_count": 2,
     "metadata": {},
     "output_type": "execute_result"
    }
   ],
   "source": [
    "df.isna().sum()"
   ]
  },
  {
   "cell_type": "code",
   "execution_count": 3,
   "metadata": {},
   "outputs": [],
   "source": [
    "df.dropna(inplace=True)"
   ]
  },
  {
   "cell_type": "markdown",
   "metadata": {},
   "source": [
    "DATA CLEANING STEP 2 \n",
    "Removing data inconsistency"
   ]
  },
  {
   "cell_type": "code",
   "execution_count": 4,
   "metadata": {},
   "outputs": [
    {
     "data": {
      "text/plain": [
       "array([\"Bachelor's\", \"Master's\", 'PhD', \"Bachelor's Degree\",\n",
       "       \"Master's Degree\", 'High School', 'phD'], dtype=object)"
      ]
     },
     "execution_count": 4,
     "metadata": {},
     "output_type": "execute_result"
    }
   ],
   "source": [
    "df[\"Education Level\"].unique()"
   ]
  },
  {
   "cell_type": "code",
   "execution_count": 5,
   "metadata": {},
   "outputs": [],
   "source": [
    "df[\"Education Level\"].replace(\"Master's Degree\", \"Master's\", inplace=True)\n",
    "df[\"Education Level\"].replace(\"Bachelor's Degree\", \"Bachelor's\", inplace=True)\n",
    "df[\"Education Level\"].replace(\"phD\", \"PhD\", inplace=True)"
   ]
  },
  {
   "cell_type": "code",
   "execution_count": 6,
   "metadata": {},
   "outputs": [
    {
     "data": {
      "text/plain": [
       "array([\"Bachelor's\", \"Master's\", 'PhD', 'High School'], dtype=object)"
      ]
     },
     "execution_count": 6,
     "metadata": {},
     "output_type": "execute_result"
    }
   ],
   "source": [
    "df[\"Education Level\"].unique()"
   ]
  },
  {
   "cell_type": "markdown",
   "metadata": {},
   "source": [
    "Miscellaneous"
   ]
  },
  {
   "cell_type": "code",
   "execution_count": 7,
   "metadata": {},
   "outputs": [
    {
     "name": "stdout",
     "output_type": "stream",
     "text": [
      "34.0\n"
     ]
    }
   ],
   "source": [
    "print(df[\"Years of Experience\"].max())"
   ]
  },
  {
   "cell_type": "code",
   "execution_count": 8,
   "metadata": {},
   "outputs": [
    {
     "name": "stdout",
     "output_type": "stream",
     "text": [
      "0.0\n"
     ]
    }
   ],
   "source": [
    "print(df[\"Years of Experience\"].min())"
   ]
  },
  {
   "cell_type": "code",
   "execution_count": 9,
   "metadata": {},
   "outputs": [
    {
     "name": "stdout",
     "output_type": "stream",
     "text": [
      "21.0\n"
     ]
    }
   ],
   "source": [
    "print(df[\"Age\"].min())"
   ]
  },
  {
   "cell_type": "code",
   "execution_count": 10,
   "metadata": {},
   "outputs": [
    {
     "name": "stdout",
     "output_type": "stream",
     "text": [
      "62.0\n"
     ]
    }
   ],
   "source": [
    "print(df[\"Age\"].max())"
   ]
  },
  {
   "cell_type": "code",
   "execution_count": 11,
   "metadata": {},
   "outputs": [
    {
     "data": {
      "text/html": [
       "<div>\n",
       "<style scoped>\n",
       "    .dataframe tbody tr th:only-of-type {\n",
       "        vertical-align: middle;\n",
       "    }\n",
       "\n",
       "    .dataframe tbody tr th {\n",
       "        vertical-align: top;\n",
       "    }\n",
       "\n",
       "    .dataframe thead th {\n",
       "        text-align: right;\n",
       "    }\n",
       "</style>\n",
       "<table border=\"1\" class=\"dataframe\">\n",
       "  <thead>\n",
       "    <tr style=\"text-align: right;\">\n",
       "      <th></th>\n",
       "      <th>Age</th>\n",
       "      <th>Gender</th>\n",
       "      <th>Education Level</th>\n",
       "      <th>Job Title</th>\n",
       "      <th>Years of Experience</th>\n",
       "      <th>Salary</th>\n",
       "    </tr>\n",
       "  </thead>\n",
       "  <tbody>\n",
       "    <tr>\n",
       "      <th>2378</th>\n",
       "      <td>53.0</td>\n",
       "      <td>Other</td>\n",
       "      <td>High School</td>\n",
       "      <td>Senior Project Engineer</td>\n",
       "      <td>31.0</td>\n",
       "      <td>166109.0</td>\n",
       "    </tr>\n",
       "    <tr>\n",
       "      <th>2385</th>\n",
       "      <td>25.0</td>\n",
       "      <td>Other</td>\n",
       "      <td>High School</td>\n",
       "      <td>Full Stack Engineer</td>\n",
       "      <td>2.0</td>\n",
       "      <td>69032.0</td>\n",
       "    </tr>\n",
       "    <tr>\n",
       "      <th>2406</th>\n",
       "      <td>37.0</td>\n",
       "      <td>Other</td>\n",
       "      <td>Master's</td>\n",
       "      <td>Full Stack Engineer</td>\n",
       "      <td>14.0</td>\n",
       "      <td>161393.0</td>\n",
       "    </tr>\n",
       "    <tr>\n",
       "      <th>2448</th>\n",
       "      <td>31.0</td>\n",
       "      <td>Other</td>\n",
       "      <td>High School</td>\n",
       "      <td>Back end Developer</td>\n",
       "      <td>8.0</td>\n",
       "      <td>104127.0</td>\n",
       "    </tr>\n",
       "    <tr>\n",
       "      <th>2454</th>\n",
       "      <td>23.0</td>\n",
       "      <td>Other</td>\n",
       "      <td>High School</td>\n",
       "      <td>Front end Developer</td>\n",
       "      <td>2.0</td>\n",
       "      <td>62852.0</td>\n",
       "    </tr>\n",
       "    <tr>\n",
       "      <th>2458</th>\n",
       "      <td>53.0</td>\n",
       "      <td>Other</td>\n",
       "      <td>High School</td>\n",
       "      <td>Senior Project Engineer</td>\n",
       "      <td>31.0</td>\n",
       "      <td>166109.0</td>\n",
       "    </tr>\n",
       "    <tr>\n",
       "      <th>2465</th>\n",
       "      <td>25.0</td>\n",
       "      <td>Other</td>\n",
       "      <td>High School</td>\n",
       "      <td>Full Stack Engineer</td>\n",
       "      <td>2.0</td>\n",
       "      <td>69032.0</td>\n",
       "    </tr>\n",
       "    <tr>\n",
       "      <th>2486</th>\n",
       "      <td>37.0</td>\n",
       "      <td>Other</td>\n",
       "      <td>Master's</td>\n",
       "      <td>Full Stack Engineer</td>\n",
       "      <td>14.0</td>\n",
       "      <td>161393.0</td>\n",
       "    </tr>\n",
       "    <tr>\n",
       "      <th>2528</th>\n",
       "      <td>31.0</td>\n",
       "      <td>Other</td>\n",
       "      <td>High School</td>\n",
       "      <td>Back end Developer</td>\n",
       "      <td>8.0</td>\n",
       "      <td>104127.0</td>\n",
       "    </tr>\n",
       "    <tr>\n",
       "      <th>2534</th>\n",
       "      <td>23.0</td>\n",
       "      <td>Other</td>\n",
       "      <td>High School</td>\n",
       "      <td>Front end Developer</td>\n",
       "      <td>2.0</td>\n",
       "      <td>62852.0</td>\n",
       "    </tr>\n",
       "    <tr>\n",
       "      <th>2554</th>\n",
       "      <td>54.0</td>\n",
       "      <td>Other</td>\n",
       "      <td>High School</td>\n",
       "      <td>Senior Software Engineer</td>\n",
       "      <td>29.0</td>\n",
       "      <td>158254.0</td>\n",
       "    </tr>\n",
       "    <tr>\n",
       "      <th>2800</th>\n",
       "      <td>54.0</td>\n",
       "      <td>Other</td>\n",
       "      <td>High School</td>\n",
       "      <td>Senior Software Engineer</td>\n",
       "      <td>29.0</td>\n",
       "      <td>158966.0</td>\n",
       "    </tr>\n",
       "    <tr>\n",
       "      <th>2919</th>\n",
       "      <td>54.0</td>\n",
       "      <td>Other</td>\n",
       "      <td>High School</td>\n",
       "      <td>Senior Software Engineer</td>\n",
       "      <td>29.0</td>\n",
       "      <td>158966.0</td>\n",
       "    </tr>\n",
       "    <tr>\n",
       "      <th>3038</th>\n",
       "      <td>54.0</td>\n",
       "      <td>Other</td>\n",
       "      <td>High School</td>\n",
       "      <td>Senior Software Engineer</td>\n",
       "      <td>29.0</td>\n",
       "      <td>158966.0</td>\n",
       "    </tr>\n",
       "  </tbody>\n",
       "</table>\n",
       "</div>"
      ],
      "text/plain": [
       "       Age Gender Education Level                 Job Title  \\\n",
       "2378  53.0  Other     High School   Senior Project Engineer   \n",
       "2385  25.0  Other     High School       Full Stack Engineer   \n",
       "2406  37.0  Other        Master's       Full Stack Engineer   \n",
       "2448  31.0  Other     High School        Back end Developer   \n",
       "2454  23.0  Other     High School       Front end Developer   \n",
       "2458  53.0  Other     High School   Senior Project Engineer   \n",
       "2465  25.0  Other     High School       Full Stack Engineer   \n",
       "2486  37.0  Other        Master's       Full Stack Engineer   \n",
       "2528  31.0  Other     High School        Back end Developer   \n",
       "2534  23.0  Other     High School       Front end Developer   \n",
       "2554  54.0  Other     High School  Senior Software Engineer   \n",
       "2800  54.0  Other     High School  Senior Software Engineer   \n",
       "2919  54.0  Other     High School  Senior Software Engineer   \n",
       "3038  54.0  Other     High School  Senior Software Engineer   \n",
       "\n",
       "      Years of Experience    Salary  \n",
       "2378                 31.0  166109.0  \n",
       "2385                  2.0   69032.0  \n",
       "2406                 14.0  161393.0  \n",
       "2448                  8.0  104127.0  \n",
       "2454                  2.0   62852.0  \n",
       "2458                 31.0  166109.0  \n",
       "2465                  2.0   69032.0  \n",
       "2486                 14.0  161393.0  \n",
       "2528                  8.0  104127.0  \n",
       "2534                  2.0   62852.0  \n",
       "2554                 29.0  158254.0  \n",
       "2800                 29.0  158966.0  \n",
       "2919                 29.0  158966.0  \n",
       "3038                 29.0  158966.0  "
      ]
     },
     "execution_count": 11,
     "metadata": {},
     "output_type": "execute_result"
    }
   ],
   "source": [
    "\n",
    "results = df.loc[(df[\"Gender\"] == \"Other\" )]\n",
    "results"
   ]
  },
  {
   "cell_type": "markdown",
   "metadata": {},
   "source": [
    "DATA PRE-PROCESSING STEP 1\n",
    "Data binning/discretization"
   ]
  },
  {
   "cell_type": "code",
   "execution_count": 12,
   "metadata": {},
   "outputs": [
    {
     "data": {
      "text/html": [
       "<div>\n",
       "<style scoped>\n",
       "    .dataframe tbody tr th:only-of-type {\n",
       "        vertical-align: middle;\n",
       "    }\n",
       "\n",
       "    .dataframe tbody tr th {\n",
       "        vertical-align: top;\n",
       "    }\n",
       "\n",
       "    .dataframe thead th {\n",
       "        text-align: right;\n",
       "    }\n",
       "</style>\n",
       "<table border=\"1\" class=\"dataframe\">\n",
       "  <thead>\n",
       "    <tr style=\"text-align: right;\">\n",
       "      <th></th>\n",
       "      <th>Age</th>\n",
       "      <th>Gender</th>\n",
       "      <th>Education Level</th>\n",
       "      <th>Job Title</th>\n",
       "      <th>Years of Experience</th>\n",
       "      <th>Salary</th>\n",
       "      <th>Binned Y.O.E</th>\n",
       "    </tr>\n",
       "  </thead>\n",
       "  <tbody>\n",
       "    <tr>\n",
       "      <th>0</th>\n",
       "      <td>32.0</td>\n",
       "      <td>Male</td>\n",
       "      <td>Bachelor's</td>\n",
       "      <td>Software Engineer</td>\n",
       "      <td>5.0</td>\n",
       "      <td>90000.0</td>\n",
       "      <td>Junior</td>\n",
       "    </tr>\n",
       "    <tr>\n",
       "      <th>1</th>\n",
       "      <td>28.0</td>\n",
       "      <td>Female</td>\n",
       "      <td>Master's</td>\n",
       "      <td>Data Analyst</td>\n",
       "      <td>3.0</td>\n",
       "      <td>65000.0</td>\n",
       "      <td>Junior</td>\n",
       "    </tr>\n",
       "    <tr>\n",
       "      <th>2</th>\n",
       "      <td>45.0</td>\n",
       "      <td>Male</td>\n",
       "      <td>PhD</td>\n",
       "      <td>Senior Manager</td>\n",
       "      <td>15.0</td>\n",
       "      <td>150000.0</td>\n",
       "      <td>Sub-Senior</td>\n",
       "    </tr>\n",
       "    <tr>\n",
       "      <th>3</th>\n",
       "      <td>36.0</td>\n",
       "      <td>Female</td>\n",
       "      <td>Bachelor's</td>\n",
       "      <td>Sales Associate</td>\n",
       "      <td>7.0</td>\n",
       "      <td>60000.0</td>\n",
       "      <td>Sub-Senior</td>\n",
       "    </tr>\n",
       "    <tr>\n",
       "      <th>4</th>\n",
       "      <td>52.0</td>\n",
       "      <td>Male</td>\n",
       "      <td>Master's</td>\n",
       "      <td>Director</td>\n",
       "      <td>20.0</td>\n",
       "      <td>200000.0</td>\n",
       "      <td>Senior</td>\n",
       "    </tr>\n",
       "    <tr>\n",
       "      <th>...</th>\n",
       "      <td>...</td>\n",
       "      <td>...</td>\n",
       "      <td>...</td>\n",
       "      <td>...</td>\n",
       "      <td>...</td>\n",
       "      <td>...</td>\n",
       "      <td>...</td>\n",
       "    </tr>\n",
       "    <tr>\n",
       "      <th>6699</th>\n",
       "      <td>49.0</td>\n",
       "      <td>Female</td>\n",
       "      <td>PhD</td>\n",
       "      <td>Director of Marketing</td>\n",
       "      <td>20.0</td>\n",
       "      <td>200000.0</td>\n",
       "      <td>Senior</td>\n",
       "    </tr>\n",
       "    <tr>\n",
       "      <th>6700</th>\n",
       "      <td>32.0</td>\n",
       "      <td>Male</td>\n",
       "      <td>High School</td>\n",
       "      <td>Sales Associate</td>\n",
       "      <td>3.0</td>\n",
       "      <td>50000.0</td>\n",
       "      <td>Junior</td>\n",
       "    </tr>\n",
       "    <tr>\n",
       "      <th>6701</th>\n",
       "      <td>30.0</td>\n",
       "      <td>Female</td>\n",
       "      <td>Bachelor's</td>\n",
       "      <td>Financial Manager</td>\n",
       "      <td>4.0</td>\n",
       "      <td>55000.0</td>\n",
       "      <td>Junior</td>\n",
       "    </tr>\n",
       "    <tr>\n",
       "      <th>6702</th>\n",
       "      <td>46.0</td>\n",
       "      <td>Male</td>\n",
       "      <td>Master's</td>\n",
       "      <td>Marketing Manager</td>\n",
       "      <td>14.0</td>\n",
       "      <td>140000.0</td>\n",
       "      <td>Sub-Senior</td>\n",
       "    </tr>\n",
       "    <tr>\n",
       "      <th>6703</th>\n",
       "      <td>26.0</td>\n",
       "      <td>Female</td>\n",
       "      <td>High School</td>\n",
       "      <td>Sales Executive</td>\n",
       "      <td>1.0</td>\n",
       "      <td>35000.0</td>\n",
       "      <td>Fresher</td>\n",
       "    </tr>\n",
       "  </tbody>\n",
       "</table>\n",
       "<p>6698 rows × 7 columns</p>\n",
       "</div>"
      ],
      "text/plain": [
       "       Age  Gender Education Level              Job Title  \\\n",
       "0     32.0    Male      Bachelor's      Software Engineer   \n",
       "1     28.0  Female        Master's           Data Analyst   \n",
       "2     45.0    Male             PhD         Senior Manager   \n",
       "3     36.0  Female      Bachelor's        Sales Associate   \n",
       "4     52.0    Male        Master's               Director   \n",
       "...    ...     ...             ...                    ...   \n",
       "6699  49.0  Female             PhD  Director of Marketing   \n",
       "6700  32.0    Male     High School        Sales Associate   \n",
       "6701  30.0  Female      Bachelor's      Financial Manager   \n",
       "6702  46.0    Male        Master's      Marketing Manager   \n",
       "6703  26.0  Female     High School        Sales Executive   \n",
       "\n",
       "      Years of Experience    Salary Binned Y.O.E  \n",
       "0                     5.0   90000.0       Junior  \n",
       "1                     3.0   65000.0       Junior  \n",
       "2                    15.0  150000.0   Sub-Senior  \n",
       "3                     7.0   60000.0   Sub-Senior  \n",
       "4                    20.0  200000.0       Senior  \n",
       "...                   ...       ...          ...  \n",
       "6699                 20.0  200000.0       Senior  \n",
       "6700                  3.0   50000.0       Junior  \n",
       "6701                  4.0   55000.0       Junior  \n",
       "6702                 14.0  140000.0   Sub-Senior  \n",
       "6703                  1.0   35000.0      Fresher  \n",
       "\n",
       "[6698 rows x 7 columns]"
      ]
     },
     "execution_count": 12,
     "metadata": {},
     "output_type": "execute_result"
    }
   ],
   "source": [
    "df['Binned Y.O.E'] = pd.cut(df[\"Years of Experience\"], bins= [0,2,5,15,35], labels = [\"Fresher\", \"Junior\", \"Sub-Senior\", \"Senior\"])\n",
    "df"
   ]
  },
  {
   "cell_type": "markdown",
   "metadata": {},
   "source": [
    "DATA PREPROCESSING STEP 2\n",
    "Data preprocessing by identifying outlier values"
   ]
  },
  {
   "cell_type": "code",
   "execution_count": 13,
   "metadata": {},
   "outputs": [
    {
     "data": {
      "text/html": [
       "<div>\n",
       "<style scoped>\n",
       "    .dataframe tbody tr th:only-of-type {\n",
       "        vertical-align: middle;\n",
       "    }\n",
       "\n",
       "    .dataframe tbody tr th {\n",
       "        vertical-align: top;\n",
       "    }\n",
       "\n",
       "    .dataframe thead th {\n",
       "        text-align: right;\n",
       "    }\n",
       "</style>\n",
       "<table border=\"1\" class=\"dataframe\">\n",
       "  <thead>\n",
       "    <tr style=\"text-align: right;\">\n",
       "      <th></th>\n",
       "      <th>Age</th>\n",
       "      <th>Gender</th>\n",
       "      <th>Education Level</th>\n",
       "      <th>Job Title</th>\n",
       "      <th>Years of Experience</th>\n",
       "      <th>Salary</th>\n",
       "      <th>Binned Y.O.E</th>\n",
       "    </tr>\n",
       "  </thead>\n",
       "  <tbody>\n",
       "    <tr>\n",
       "      <th>3439</th>\n",
       "      <td>30.0</td>\n",
       "      <td>Male</td>\n",
       "      <td>High School</td>\n",
       "      <td>Junior HR Generalist</td>\n",
       "      <td>1.0</td>\n",
       "      <td>32000.0</td>\n",
       "      <td>Fresher</td>\n",
       "    </tr>\n",
       "    <tr>\n",
       "      <th>3558</th>\n",
       "      <td>30.0</td>\n",
       "      <td>Male</td>\n",
       "      <td>High School</td>\n",
       "      <td>Junior HR Generalist</td>\n",
       "      <td>1.0</td>\n",
       "      <td>32000.0</td>\n",
       "      <td>Fresher</td>\n",
       "    </tr>\n",
       "    <tr>\n",
       "      <th>4280</th>\n",
       "      <td>30.0</td>\n",
       "      <td>Female</td>\n",
       "      <td>High School</td>\n",
       "      <td>Junior Sales Associate</td>\n",
       "      <td>1.0</td>\n",
       "      <td>26000.0</td>\n",
       "      <td>Fresher</td>\n",
       "    </tr>\n",
       "    <tr>\n",
       "      <th>4295</th>\n",
       "      <td>30.0</td>\n",
       "      <td>Female</td>\n",
       "      <td>High School</td>\n",
       "      <td>Junior Sales Associate</td>\n",
       "      <td>1.0</td>\n",
       "      <td>26000.0</td>\n",
       "      <td>Fresher</td>\n",
       "    </tr>\n",
       "    <tr>\n",
       "      <th>4310</th>\n",
       "      <td>30.0</td>\n",
       "      <td>Female</td>\n",
       "      <td>High School</td>\n",
       "      <td>Junior Sales Associate</td>\n",
       "      <td>1.0</td>\n",
       "      <td>26000.0</td>\n",
       "      <td>Fresher</td>\n",
       "    </tr>\n",
       "    <tr>\n",
       "      <th>4325</th>\n",
       "      <td>30.0</td>\n",
       "      <td>Female</td>\n",
       "      <td>High School</td>\n",
       "      <td>Junior Sales Associate</td>\n",
       "      <td>1.0</td>\n",
       "      <td>26000.0</td>\n",
       "      <td>Fresher</td>\n",
       "    </tr>\n",
       "    <tr>\n",
       "      <th>4340</th>\n",
       "      <td>30.0</td>\n",
       "      <td>Female</td>\n",
       "      <td>High School</td>\n",
       "      <td>Junior Sales Associate</td>\n",
       "      <td>1.0</td>\n",
       "      <td>26000.0</td>\n",
       "      <td>Fresher</td>\n",
       "    </tr>\n",
       "    <tr>\n",
       "      <th>4355</th>\n",
       "      <td>30.0</td>\n",
       "      <td>Female</td>\n",
       "      <td>High School</td>\n",
       "      <td>Junior Sales Associate</td>\n",
       "      <td>1.0</td>\n",
       "      <td>26000.0</td>\n",
       "      <td>Fresher</td>\n",
       "    </tr>\n",
       "    <tr>\n",
       "      <th>4370</th>\n",
       "      <td>30.0</td>\n",
       "      <td>Female</td>\n",
       "      <td>High School</td>\n",
       "      <td>Junior Sales Associate</td>\n",
       "      <td>1.0</td>\n",
       "      <td>26000.0</td>\n",
       "      <td>Fresher</td>\n",
       "    </tr>\n",
       "    <tr>\n",
       "      <th>4385</th>\n",
       "      <td>30.0</td>\n",
       "      <td>Female</td>\n",
       "      <td>High School</td>\n",
       "      <td>Junior Sales Associate</td>\n",
       "      <td>1.0</td>\n",
       "      <td>26000.0</td>\n",
       "      <td>Fresher</td>\n",
       "    </tr>\n",
       "    <tr>\n",
       "      <th>4393</th>\n",
       "      <td>33.0</td>\n",
       "      <td>Male</td>\n",
       "      <td>High School</td>\n",
       "      <td>Junior Sales Associate</td>\n",
       "      <td>1.0</td>\n",
       "      <td>25000.0</td>\n",
       "      <td>Fresher</td>\n",
       "    </tr>\n",
       "    <tr>\n",
       "      <th>4401</th>\n",
       "      <td>30.0</td>\n",
       "      <td>Female</td>\n",
       "      <td>High School</td>\n",
       "      <td>Junior Sales Associate</td>\n",
       "      <td>1.0</td>\n",
       "      <td>25000.0</td>\n",
       "      <td>Fresher</td>\n",
       "    </tr>\n",
       "    <tr>\n",
       "      <th>4411</th>\n",
       "      <td>31.0</td>\n",
       "      <td>Female</td>\n",
       "      <td>High School</td>\n",
       "      <td>Junior Sales Associate</td>\n",
       "      <td>1.0</td>\n",
       "      <td>25000.0</td>\n",
       "      <td>Fresher</td>\n",
       "    </tr>\n",
       "    <tr>\n",
       "      <th>4416</th>\n",
       "      <td>30.0</td>\n",
       "      <td>Female</td>\n",
       "      <td>High School</td>\n",
       "      <td>Junior Sales Associate</td>\n",
       "      <td>1.0</td>\n",
       "      <td>25000.0</td>\n",
       "      <td>Fresher</td>\n",
       "    </tr>\n",
       "    <tr>\n",
       "      <th>4426</th>\n",
       "      <td>31.0</td>\n",
       "      <td>Female</td>\n",
       "      <td>High School</td>\n",
       "      <td>Junior Sales Associate</td>\n",
       "      <td>1.0</td>\n",
       "      <td>25000.0</td>\n",
       "      <td>Fresher</td>\n",
       "    </tr>\n",
       "    <tr>\n",
       "      <th>4431</th>\n",
       "      <td>30.0</td>\n",
       "      <td>Female</td>\n",
       "      <td>High School</td>\n",
       "      <td>Junior Sales Associate</td>\n",
       "      <td>1.0</td>\n",
       "      <td>25000.0</td>\n",
       "      <td>Fresher</td>\n",
       "    </tr>\n",
       "    <tr>\n",
       "      <th>4441</th>\n",
       "      <td>31.0</td>\n",
       "      <td>Female</td>\n",
       "      <td>High School</td>\n",
       "      <td>Junior Sales Associate</td>\n",
       "      <td>1.0</td>\n",
       "      <td>25000.0</td>\n",
       "      <td>Fresher</td>\n",
       "    </tr>\n",
       "    <tr>\n",
       "      <th>4446</th>\n",
       "      <td>30.0</td>\n",
       "      <td>Female</td>\n",
       "      <td>High School</td>\n",
       "      <td>Junior Sales Associate</td>\n",
       "      <td>1.0</td>\n",
       "      <td>25000.0</td>\n",
       "      <td>Fresher</td>\n",
       "    </tr>\n",
       "    <tr>\n",
       "      <th>4456</th>\n",
       "      <td>31.0</td>\n",
       "      <td>Female</td>\n",
       "      <td>High School</td>\n",
       "      <td>Junior Sales Associate</td>\n",
       "      <td>1.0</td>\n",
       "      <td>25000.0</td>\n",
       "      <td>Fresher</td>\n",
       "    </tr>\n",
       "    <tr>\n",
       "      <th>4461</th>\n",
       "      <td>30.0</td>\n",
       "      <td>Female</td>\n",
       "      <td>High School</td>\n",
       "      <td>Junior Sales Associate</td>\n",
       "      <td>1.0</td>\n",
       "      <td>25000.0</td>\n",
       "      <td>Fresher</td>\n",
       "    </tr>\n",
       "    <tr>\n",
       "      <th>4471</th>\n",
       "      <td>31.0</td>\n",
       "      <td>Female</td>\n",
       "      <td>High School</td>\n",
       "      <td>Junior Sales Associate</td>\n",
       "      <td>1.0</td>\n",
       "      <td>25000.0</td>\n",
       "      <td>Fresher</td>\n",
       "    </tr>\n",
       "    <tr>\n",
       "      <th>4476</th>\n",
       "      <td>30.0</td>\n",
       "      <td>Female</td>\n",
       "      <td>High School</td>\n",
       "      <td>Junior Sales Associate</td>\n",
       "      <td>1.0</td>\n",
       "      <td>25000.0</td>\n",
       "      <td>Fresher</td>\n",
       "    </tr>\n",
       "    <tr>\n",
       "      <th>4486</th>\n",
       "      <td>31.0</td>\n",
       "      <td>Female</td>\n",
       "      <td>High School</td>\n",
       "      <td>Junior Sales Associate</td>\n",
       "      <td>1.0</td>\n",
       "      <td>25000.0</td>\n",
       "      <td>Fresher</td>\n",
       "    </tr>\n",
       "    <tr>\n",
       "      <th>4491</th>\n",
       "      <td>30.0</td>\n",
       "      <td>Female</td>\n",
       "      <td>High School</td>\n",
       "      <td>Junior Sales Associate</td>\n",
       "      <td>1.0</td>\n",
       "      <td>25000.0</td>\n",
       "      <td>Fresher</td>\n",
       "    </tr>\n",
       "    <tr>\n",
       "      <th>4501</th>\n",
       "      <td>31.0</td>\n",
       "      <td>Female</td>\n",
       "      <td>High School</td>\n",
       "      <td>Junior Sales Associate</td>\n",
       "      <td>1.0</td>\n",
       "      <td>25000.0</td>\n",
       "      <td>Fresher</td>\n",
       "    </tr>\n",
       "    <tr>\n",
       "      <th>4506</th>\n",
       "      <td>30.0</td>\n",
       "      <td>Female</td>\n",
       "      <td>High School</td>\n",
       "      <td>Junior Sales Associate</td>\n",
       "      <td>1.0</td>\n",
       "      <td>25000.0</td>\n",
       "      <td>Fresher</td>\n",
       "    </tr>\n",
       "  </tbody>\n",
       "</table>\n",
       "</div>"
      ],
      "text/plain": [
       "       Age  Gender Education Level               Job Title  \\\n",
       "3439  30.0    Male     High School    Junior HR Generalist   \n",
       "3558  30.0    Male     High School    Junior HR Generalist   \n",
       "4280  30.0  Female     High School  Junior Sales Associate   \n",
       "4295  30.0  Female     High School  Junior Sales Associate   \n",
       "4310  30.0  Female     High School  Junior Sales Associate   \n",
       "4325  30.0  Female     High School  Junior Sales Associate   \n",
       "4340  30.0  Female     High School  Junior Sales Associate   \n",
       "4355  30.0  Female     High School  Junior Sales Associate   \n",
       "4370  30.0  Female     High School  Junior Sales Associate   \n",
       "4385  30.0  Female     High School  Junior Sales Associate   \n",
       "4393  33.0    Male     High School  Junior Sales Associate   \n",
       "4401  30.0  Female     High School  Junior Sales Associate   \n",
       "4411  31.0  Female     High School  Junior Sales Associate   \n",
       "4416  30.0  Female     High School  Junior Sales Associate   \n",
       "4426  31.0  Female     High School  Junior Sales Associate   \n",
       "4431  30.0  Female     High School  Junior Sales Associate   \n",
       "4441  31.0  Female     High School  Junior Sales Associate   \n",
       "4446  30.0  Female     High School  Junior Sales Associate   \n",
       "4456  31.0  Female     High School  Junior Sales Associate   \n",
       "4461  30.0  Female     High School  Junior Sales Associate   \n",
       "4471  31.0  Female     High School  Junior Sales Associate   \n",
       "4476  30.0  Female     High School  Junior Sales Associate   \n",
       "4486  31.0  Female     High School  Junior Sales Associate   \n",
       "4491  30.0  Female     High School  Junior Sales Associate   \n",
       "4501  31.0  Female     High School  Junior Sales Associate   \n",
       "4506  30.0  Female     High School  Junior Sales Associate   \n",
       "\n",
       "      Years of Experience   Salary Binned Y.O.E  \n",
       "3439                  1.0  32000.0      Fresher  \n",
       "3558                  1.0  32000.0      Fresher  \n",
       "4280                  1.0  26000.0      Fresher  \n",
       "4295                  1.0  26000.0      Fresher  \n",
       "4310                  1.0  26000.0      Fresher  \n",
       "4325                  1.0  26000.0      Fresher  \n",
       "4340                  1.0  26000.0      Fresher  \n",
       "4355                  1.0  26000.0      Fresher  \n",
       "4370                  1.0  26000.0      Fresher  \n",
       "4385                  1.0  26000.0      Fresher  \n",
       "4393                  1.0  25000.0      Fresher  \n",
       "4401                  1.0  25000.0      Fresher  \n",
       "4411                  1.0  25000.0      Fresher  \n",
       "4416                  1.0  25000.0      Fresher  \n",
       "4426                  1.0  25000.0      Fresher  \n",
       "4431                  1.0  25000.0      Fresher  \n",
       "4441                  1.0  25000.0      Fresher  \n",
       "4446                  1.0  25000.0      Fresher  \n",
       "4456                  1.0  25000.0      Fresher  \n",
       "4461                  1.0  25000.0      Fresher  \n",
       "4471                  1.0  25000.0      Fresher  \n",
       "4476                  1.0  25000.0      Fresher  \n",
       "4486                  1.0  25000.0      Fresher  \n",
       "4491                  1.0  25000.0      Fresher  \n",
       "4501                  1.0  25000.0      Fresher  \n",
       "4506                  1.0  25000.0      Fresher  "
      ]
     },
     "execution_count": 13,
     "metadata": {},
     "output_type": "execute_result"
    }
   ],
   "source": [
    "lower_limit = 30\n",
    "upper_limit = 1\n",
    "df2 = df.loc[(df[\"Age\"] >= lower_limit) & (df[\"Years of Experience\"] <= upper_limit )]\n",
    "df2"
   ]
  },
  {
   "cell_type": "markdown",
   "metadata": {},
   "source": [
    "Dropping outlier data"
   ]
  },
  {
   "cell_type": "code",
   "execution_count": 14,
   "metadata": {},
   "outputs": [
    {
     "data": {
      "text/html": [
       "<div>\n",
       "<style scoped>\n",
       "    .dataframe tbody tr th:only-of-type {\n",
       "        vertical-align: middle;\n",
       "    }\n",
       "\n",
       "    .dataframe tbody tr th {\n",
       "        vertical-align: top;\n",
       "    }\n",
       "\n",
       "    .dataframe thead th {\n",
       "        text-align: right;\n",
       "    }\n",
       "</style>\n",
       "<table border=\"1\" class=\"dataframe\">\n",
       "  <thead>\n",
       "    <tr style=\"text-align: right;\">\n",
       "      <th></th>\n",
       "      <th>Age</th>\n",
       "      <th>Gender</th>\n",
       "      <th>Education Level</th>\n",
       "      <th>Job Title</th>\n",
       "      <th>Years of Experience</th>\n",
       "      <th>Salary</th>\n",
       "      <th>Binned Y.O.E</th>\n",
       "    </tr>\n",
       "  </thead>\n",
       "  <tbody>\n",
       "  </tbody>\n",
       "</table>\n",
       "</div>"
      ],
      "text/plain": [
       "Empty DataFrame\n",
       "Columns: [Age, Gender, Education Level, Job Title, Years of Experience, Salary, Binned Y.O.E]\n",
       "Index: []"
      ]
     },
     "execution_count": 14,
     "metadata": {},
     "output_type": "execute_result"
    }
   ],
   "source": [
    "df.drop(df2.index, inplace= True)\n",
    "lower_limit = 30\n",
    "upper_limit = 1\n",
    "df2 = df.loc[(df[\"Age\"] >= lower_limit) & (df[\"Years of Experience\"] <= upper_limit )]\n",
    "df2"
   ]
  },
  {
   "cell_type": "markdown",
   "metadata": {},
   "source": [
    "DATA PREPROCESSING STEP 3 Data preprocessing by identifying outlier values"
   ]
  },
  {
   "cell_type": "code",
   "execution_count": 15,
   "metadata": {},
   "outputs": [
    {
     "data": {
      "text/html": [
       "<div>\n",
       "<style scoped>\n",
       "    .dataframe tbody tr th:only-of-type {\n",
       "        vertical-align: middle;\n",
       "    }\n",
       "\n",
       "    .dataframe tbody tr th {\n",
       "        vertical-align: top;\n",
       "    }\n",
       "\n",
       "    .dataframe thead th {\n",
       "        text-align: right;\n",
       "    }\n",
       "</style>\n",
       "<table border=\"1\" class=\"dataframe\">\n",
       "  <thead>\n",
       "    <tr style=\"text-align: right;\">\n",
       "      <th></th>\n",
       "      <th>Age</th>\n",
       "      <th>Gender</th>\n",
       "      <th>Education Level</th>\n",
       "      <th>Job Title</th>\n",
       "      <th>Years of Experience</th>\n",
       "      <th>Salary</th>\n",
       "      <th>Binned Y.O.E</th>\n",
       "    </tr>\n",
       "  </thead>\n",
       "  <tbody>\n",
       "    <tr>\n",
       "      <th>2376</th>\n",
       "      <td>25.0</td>\n",
       "      <td>Male</td>\n",
       "      <td>PhD</td>\n",
       "      <td>Software Engineer Manager</td>\n",
       "      <td>12.0</td>\n",
       "      <td>169159.0</td>\n",
       "      <td>Sub-Senior</td>\n",
       "    </tr>\n",
       "    <tr>\n",
       "      <th>2456</th>\n",
       "      <td>25.0</td>\n",
       "      <td>Male</td>\n",
       "      <td>PhD</td>\n",
       "      <td>Software Engineer Manager</td>\n",
       "      <td>12.0</td>\n",
       "      <td>169159.0</td>\n",
       "      <td>Sub-Senior</td>\n",
       "    </tr>\n",
       "  </tbody>\n",
       "</table>\n",
       "</div>"
      ],
      "text/plain": [
       "       Age Gender Education Level                  Job Title  \\\n",
       "2376  25.0   Male             PhD  Software Engineer Manager   \n",
       "2456  25.0   Male             PhD  Software Engineer Manager   \n",
       "\n",
       "      Years of Experience    Salary Binned Y.O.E  \n",
       "2376                 12.0  169159.0   Sub-Senior  \n",
       "2456                 12.0  169159.0   Sub-Senior  "
      ]
     },
     "execution_count": 15,
     "metadata": {},
     "output_type": "execute_result"
    }
   ],
   "source": [
    "df3 = df.loc[(df[\"Age\"] - df[\"Years of Experience\"] <= 18 )]\n",
    "df3"
   ]
  },
  {
   "cell_type": "markdown",
   "metadata": {},
   "source": [
    "Dropping outlier data"
   ]
  },
  {
   "cell_type": "code",
   "execution_count": 16,
   "metadata": {},
   "outputs": [
    {
     "data": {
      "text/html": [
       "<div>\n",
       "<style scoped>\n",
       "    .dataframe tbody tr th:only-of-type {\n",
       "        vertical-align: middle;\n",
       "    }\n",
       "\n",
       "    .dataframe tbody tr th {\n",
       "        vertical-align: top;\n",
       "    }\n",
       "\n",
       "    .dataframe thead th {\n",
       "        text-align: right;\n",
       "    }\n",
       "</style>\n",
       "<table border=\"1\" class=\"dataframe\">\n",
       "  <thead>\n",
       "    <tr style=\"text-align: right;\">\n",
       "      <th></th>\n",
       "      <th>Age</th>\n",
       "      <th>Gender</th>\n",
       "      <th>Education Level</th>\n",
       "      <th>Job Title</th>\n",
       "      <th>Years of Experience</th>\n",
       "      <th>Salary</th>\n",
       "      <th>Binned Y.O.E</th>\n",
       "    </tr>\n",
       "  </thead>\n",
       "  <tbody>\n",
       "  </tbody>\n",
       "</table>\n",
       "</div>"
      ],
      "text/plain": [
       "Empty DataFrame\n",
       "Columns: [Age, Gender, Education Level, Job Title, Years of Experience, Salary, Binned Y.O.E]\n",
       "Index: []"
      ]
     },
     "execution_count": 16,
     "metadata": {},
     "output_type": "execute_result"
    }
   ],
   "source": [
    "df.drop(df3.index, inplace= True)\n",
    "df3 = df.loc[(df[\"Age\"] - df[\"Years of Experience\"] <= 18 )]\n",
    "df3"
   ]
  },
  {
   "cell_type": "markdown",
   "metadata": {},
   "source": [
    "QUESTION 1 : Show the effect of degree of salary for respective work experience levels"
   ]
  },
  {
   "cell_type": "code",
   "execution_count": 17,
   "metadata": {},
   "outputs": [
    {
     "data": {
      "text/html": [
       "<div>\n",
       "<style scoped>\n",
       "    .dataframe tbody tr th:only-of-type {\n",
       "        vertical-align: middle;\n",
       "    }\n",
       "\n",
       "    .dataframe tbody tr th {\n",
       "        vertical-align: top;\n",
       "    }\n",
       "\n",
       "    .dataframe thead th {\n",
       "        text-align: right;\n",
       "    }\n",
       "</style>\n",
       "<table border=\"1\" class=\"dataframe\">\n",
       "  <thead>\n",
       "    <tr style=\"text-align: right;\">\n",
       "      <th></th>\n",
       "      <th></th>\n",
       "      <th>Salary</th>\n",
       "    </tr>\n",
       "    <tr>\n",
       "      <th>Binned Y.O.E</th>\n",
       "      <th>Education Level</th>\n",
       "      <th></th>\n",
       "    </tr>\n",
       "  </thead>\n",
       "  <tbody>\n",
       "    <tr>\n",
       "      <th rowspan=\"4\" valign=\"top\">Fresher</th>\n",
       "      <th>Bachelor's</th>\n",
       "      <td>58076.100134</td>\n",
       "    </tr>\n",
       "    <tr>\n",
       "      <th>High School</th>\n",
       "      <td>33310.519084</td>\n",
       "    </tr>\n",
       "    <tr>\n",
       "      <th>Master's</th>\n",
       "      <td>63966.296296</td>\n",
       "    </tr>\n",
       "    <tr>\n",
       "      <th>PhD</th>\n",
       "      <td>102580.055556</td>\n",
       "    </tr>\n",
       "    <tr>\n",
       "      <th rowspan=\"4\" valign=\"top\">Junior</th>\n",
       "      <th>Bachelor's</th>\n",
       "      <td>85783.673435</td>\n",
       "    </tr>\n",
       "    <tr>\n",
       "      <th>High School</th>\n",
       "      <td>50469.311111</td>\n",
       "    </tr>\n",
       "    <tr>\n",
       "      <th>Master's</th>\n",
       "      <td>84302.976285</td>\n",
       "    </tr>\n",
       "    <tr>\n",
       "      <th>PhD</th>\n",
       "      <td>82724.093023</td>\n",
       "    </tr>\n",
       "    <tr>\n",
       "      <th rowspan=\"4\" valign=\"top\">Sub-Senior</th>\n",
       "      <th>Bachelor's</th>\n",
       "      <td>124669.023429</td>\n",
       "    </tr>\n",
       "    <tr>\n",
       "      <th>High School</th>\n",
       "      <td>101306.333333</td>\n",
       "    </tr>\n",
       "    <tr>\n",
       "      <th>Master's</th>\n",
       "      <td>136879.223950</td>\n",
       "    </tr>\n",
       "    <tr>\n",
       "      <th>PhD</th>\n",
       "      <td>156640.202899</td>\n",
       "    </tr>\n",
       "    <tr>\n",
       "      <th rowspan=\"4\" valign=\"top\">Senior</th>\n",
       "      <th>Bachelor's</th>\n",
       "      <td>177254.492857</td>\n",
       "    </tr>\n",
       "    <tr>\n",
       "      <th>High School</th>\n",
       "      <td>160762.200000</td>\n",
       "    </tr>\n",
       "    <tr>\n",
       "      <th>Master's</th>\n",
       "      <td>178358.549763</td>\n",
       "    </tr>\n",
       "    <tr>\n",
       "      <th>PhD</th>\n",
       "      <td>188726.294991</td>\n",
       "    </tr>\n",
       "  </tbody>\n",
       "</table>\n",
       "</div>"
      ],
      "text/plain": [
       "                                     Salary\n",
       "Binned Y.O.E Education Level               \n",
       "Fresher      Bachelor's        58076.100134\n",
       "             High School       33310.519084\n",
       "             Master's          63966.296296\n",
       "             PhD              102580.055556\n",
       "Junior       Bachelor's        85783.673435\n",
       "             High School       50469.311111\n",
       "             Master's          84302.976285\n",
       "             PhD               82724.093023\n",
       "Sub-Senior   Bachelor's       124669.023429\n",
       "             High School      101306.333333\n",
       "             Master's         136879.223950\n",
       "             PhD              156640.202899\n",
       "Senior       Bachelor's       177254.492857\n",
       "             High School      160762.200000\n",
       "             Master's         178358.549763\n",
       "             PhD              188726.294991"
      ]
     },
     "execution_count": 17,
     "metadata": {},
     "output_type": "execute_result"
    }
   ],
   "source": [
    "df4 = pd.DataFrame(df)\n",
    "df4.drop([\"Age\",\"Gender\", 'Job Title', \"Years of Experience\"], axis = 1, inplace = True)\n",
    "groups = df4.groupby(['Binned Y.O.E',\"Education Level\" ]).mean() \n",
    "groups"
   ]
  },
  {
   "cell_type": "markdown",
   "metadata": {},
   "source": [
    "QUESTION 2 : Show the breakdown of composition of the employess by gender"
   ]
  },
  {
   "cell_type": "code",
   "execution_count": 18,
   "metadata": {},
   "outputs": [
    {
     "name": "stdout",
     "output_type": "stream",
     "text": [
      "Number of male and female employees:\n",
      "Gender\n",
      "Male      3666\n",
      "Female    2990\n",
      "Other       14\n",
      "Name: count, dtype: int64\n"
     ]
    }
   ],
   "source": [
    "gender_count = df['Gender'].value_counts()\n",
    "print(\"Number of male and female employees:\")\n",
    "print(gender_count)"
   ]
  },
  {
   "cell_type": "markdown",
   "metadata": {},
   "source": [
    "QUSETION 3 : Show the mean salary of each gender"
   ]
  },
  {
   "cell_type": "code",
   "execution_count": 19,
   "metadata": {},
   "outputs": [
    {
     "name": "stdout",
     "output_type": "stream",
     "text": [
      "\n",
      "Mean salary by gender:\n",
      "Gender\n",
      "Female    108523.930769\n",
      "Male      121444.704855\n",
      "Other     125869.857143\n",
      "Name: Salary, dtype: float64\n"
     ]
    }
   ],
   "source": [
    "mean_salary_by_gender = df.groupby('Gender')['Salary'].mean()\n",
    "print(\"\\nMean salary by gender:\")\n",
    "print(mean_salary_by_gender)"
   ]
  },
  {
   "cell_type": "markdown",
   "metadata": {},
   "source": [
    "QUESTION 4 : Show the top 3 job titles with highest salary "
   ]
  },
  {
   "cell_type": "code",
   "execution_count": 20,
   "metadata": {},
   "outputs": [
    {
     "name": "stdout",
     "output_type": "stream",
     "text": [
      "Job Title\n",
      "CEO                         250000.0\n",
      "Chief Technology Officer    250000.0\n",
      "Chief Data Officer          220000.0\n",
      "Name: Salary, dtype: float64\n"
     ]
    }
   ],
   "source": [
    "JOB_TITLES= df.groupby(\"Job Title\")[\"Salary\"].mean()\n",
    "TOP_JOB_TITLES= JOB_TITLES.nlargest(3)\n",
    "print(TOP_JOB_TITLES)"
   ]
  },
  {
   "cell_type": "markdown",
   "metadata": {},
   "source": [
    "QUESTION 5 : Show number of employees in each job title"
   ]
  },
  {
   "cell_type": "code",
   "execution_count": 21,
   "metadata": {},
   "outputs": [
    {
     "name": "stdout",
     "output_type": "stream",
     "text": [
      "Number of employees in job titles:\n",
      "<bound method Series.sort_values of Job Title\n",
      "Software Engineer             518\n",
      "Data Scientist                453\n",
      "Software Engineer Manager     374\n",
      "Data Analyst                  363\n",
      "Senior Project Engineer       318\n",
      "                             ... \n",
      "Account Manager                 1\n",
      "Help Desk Analyst               1\n",
      "Senior Training Specialist      1\n",
      "Junior Web Designer             1\n",
      "Software Project Manager        1\n",
      "Name: count, Length: 191, dtype: int64>\n"
     ]
    }
   ],
   "source": [
    "job_count = df['Job Title'].value_counts()\n",
    "print(\"Number of employees in job titles:\")\n",
    "print(job_count.sort_values)"
   ]
  },
  {
   "cell_type": "markdown",
   "metadata": {},
   "source": [
    "QUESTION 6 : Show the mean salary of 5 job titles with max number of employees"
   ]
  },
  {
   "cell_type": "code",
   "execution_count": 22,
   "metadata": {},
   "outputs": [
    {
     "name": "stdout",
     "output_type": "stream",
     "text": [
      "Number of employees in job titles:\n",
      "Job Title\n",
      "Software Engineer            518\n",
      "Data Scientist               453\n",
      "Software Engineer Manager    374\n",
      "Data Analyst                 363\n",
      "Senior Project Engineer      318\n",
      "Name: count, dtype: int64\n",
      "['Software Engineer', 'Data Scientist', 'Software Engineer Manager', 'Data Analyst', 'Senior Project Engineer']\n",
      "Mean Salary of  Software Engineer  is :  113243.24324324324\n",
      "Mean Salary of  Data Scientist  is :  166105.96026490067\n",
      "Mean Salary of  Software Engineer Manager  is :  172520.04545454544\n",
      "Mean Salary of  Data Analyst  is :  125090.90909090909\n",
      "Mean Salary of  Senior Project Engineer  is :  166224.75471698114\n"
     ]
    }
   ],
   "source": [
    "job_count = df['Job Title'].value_counts().nlargest(5)\n",
    "print(\"Number of employees in job titles:\")\n",
    "print(job_count)\n",
    "list_count = job_count.index.to_list()\n",
    "print(list_count)\n",
    "for val in list_count :\n",
    "    df5 = df.loc[(df[\"Job Title\"] == val)]\n",
    "    print(\"Mean Salary of \", val, \" is : \",df5[\"Salary\"].mean())"
   ]
  },
  {
   "cell_type": "markdown",
   "metadata": {},
   "source": [
    "QUESTION 7 : Show how strongly is work experience related to salary"
   ]
  },
  {
   "cell_type": "code",
   "execution_count": 23,
   "metadata": {},
   "outputs": [
    {
     "name": "stdout",
     "output_type": "stream",
     "text": [
      "The correlation between years of experience and salary is: 0.81\n"
     ]
    }
   ],
   "source": [
    "correlation = df['Years of Experience'].corr(df['Salary'])\n",
    "print(f\"The correlation between years of experience and salary is: {correlation:.2f}\")"
   ]
  },
  {
   "cell_type": "markdown",
   "metadata": {},
   "source": [
    "QUESTION 8 : Show the average salary of each educational level"
   ]
  },
  {
   "cell_type": "code",
   "execution_count": 24,
   "metadata": {},
   "outputs": [
    {
     "name": "stdout",
     "output_type": "stream",
     "text": [
      "\n",
      "Mean salary by education:\n",
      "Education Level\n",
      "Bachelor's      95082.908640\n",
      "High School     37375.827014\n",
      "Master's       130112.056452\n",
      "PhD            165646.326262\n",
      "Name: Salary, dtype: float64\n"
     ]
    }
   ],
   "source": [
    "mean_salary_by_education = df.groupby('Education Level')['Salary'].mean()\n",
    "print(\"\\nMean salary by education:\")\n",
    "print(mean_salary_by_education)"
   ]
  },
  {
   "cell_type": "markdown",
   "metadata": {},
   "source": [
    "GRAPH 1 : Plot the effect of degree of salary for respective work experience levels"
   ]
  },
  {
   "cell_type": "code",
   "execution_count": 25,
   "metadata": {},
   "outputs": [
    {
     "name": "stdout",
     "output_type": "stream",
     "text": [
      "Education Level     Bachelor's    High School       Master's            PhD\n",
      "Binned Y.O.E                                                               \n",
      "Fresher           58076.100134   33310.519084   63966.296296  102580.055556\n",
      "Junior            85783.673435   50469.311111   84302.976285   82724.093023\n",
      "Sub-Senior       124669.023429  101306.333333  136879.223950  156640.202899\n",
      "Senior           177254.492857  160762.200000  178358.549763  188726.294991\n"
     ]
    },
    {
     "data": {
      "text/plain": [
       "<Axes: xlabel='Binned Y.O.E'>"
      ]
     },
     "execution_count": 25,
     "metadata": {},
     "output_type": "execute_result"
    },
    {
     "data": {
      "image/png": "[encoded data removed]",
      "text/plain": [
       "<Figure size 640x480 with 1 Axes>"
      ]
     },
     "metadata": {},
     "output_type": "display_data"
    }
   ],
   "source": [
    "groups2 = df4.groupby(['Binned Y.O.E',\"Education Level\" ])[\"Salary\"].mean()\n",
    "df6 =groups2.unstack(level=1)\n",
    "print(df6)\n",
    "df6.plot.bar()\n"
   ]
  },
  {
   "cell_type": "markdown",
   "metadata": {},
   "source": [
    "GRAPH 2 : Plot a pie chart to show the break down of employees in the age range -> (20-30),(31-40),(42-50),(51-65)"
   ]
  },
  {
   "cell_type": "code",
   "execution_count": 26,
   "metadata": {},
   "outputs": [
    {
     "name": "stdout",
     "output_type": "stream",
     "text": [
      "  Binned Age  male_count  female_count  other_count\n",
      "0      20-30        1401          1467            4\n",
      "1      31-40        1361          1085            4\n",
      "2      41-50         770           389            0\n",
      "3      51-65         134            49            6\n"
     ]
    },
    {
     "data": {
      "text/plain": [
       "<Axes: xlabel='Binned Age'>"
      ]
     },
     "execution_count": 26,
     "metadata": {},
     "output_type": "execute_result"
    },
    {
     "data": {
      "image/png": "[encoded data removed]",
      "text/plain": [
       "<Figure size 640x480 with 1 Axes>"
      ]
     },
     "metadata": {},
     "output_type": "display_data"
    }
   ],
   "source": [
    "df['Binned Age'] = pd.cut(df[\"Age\"], bins= [20,30,40,50,65], labels = [\"20-30\", \"31-40\", \"41-50\", \"51-65\"])\n",
    "df7 = df[\"Binned Age\"].value_counts()\n",
    "df8 = pd.DataFrame(data=df7.index, columns=['Binned Age'])\n",
    "age_bin = [\"20-30\", \"31-40\", \"41-50\", \"51-65\"]\n",
    "male_count = []\n",
    "for i in age_bin :\n",
    "    male = df.loc[(df[\"Gender\"] == \"Male\") & (df[\"Binned Age\"] == i)].__len__()\n",
    "    male_count.append(male)\n",
    "female_count = []\n",
    "for i in age_bin :\n",
    "    female = df.loc[(df[\"Gender\"] == \"Female\") & (df[\"Binned Age\"] == i)].__len__()\n",
    "    female_count.append(female)\n",
    "other_count = []\n",
    "for i in age_bin :\n",
    "    other = df.loc[(df[\"Gender\"] == \"Other\") & (df[\"Binned Age\"] == i)].__len__()\n",
    "    other_count.append(other)\n",
    "df8[\"male_count\"]=male_count\n",
    "df8[\"female_count\"]=female_count\n",
    "df8[\"other_count\"]=other_count\n",
    "print(df8)\n",
    "df8.plot(x=\"Binned Age\", kind= \"bar\", stacked=True)"
   ]
  }
 ],
 "metadata": {
  "kernelspec": {
   "display_name": "Python 3",
   "language": "python",
   "name": "python3"
  },
  "language_info": {
   "codemirror_mode": {
    "name": "ipython",
    "version": 3
   },
   "file_extension": ".py",
   "mimetype": "text/x-python",
   "name": "python",
   "nbconvert_exporter": "python",
   "pygments_lexer": "ipython3",
   "version": "3.11.2"
  }
 },
 "nbformat": 4,
 "nbformat_minor": 2
}
